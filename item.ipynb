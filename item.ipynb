{
 "cells": [
  {
   "cell_type": "markdown",
   "metadata": {},
   "source": [
    "# 实习一：数据库应用案例设计\n",
    "成员："
   ]
  },
  {
   "cell_type": "markdown",
   "metadata": {},
   "source": [
    "本次实习的目标是设计微信数据库，包括列举业务需求、设计ER图、将ER图转换为关系表、用SQL语句实现业务功能。\n",
    "## 一、业务需求\n",
    "微信提供了多种功能，我们主要关注通信和朋友圈功能。通信功能又分为两类：点对点聊天和群聊。\n",
    "点对点聊天：两个微信用户之间可以互相收发短信，一条短信可以引用另一条短信。\n",
    "群聊：多个用户可以加入同一个微信群，每个群都会有一名群主。当用户在群内发送消息时，其他所有用户都会看到\n",
    "消息。\n",
    "朋友圈：用户可以发朋友圈帖子，每个帖子都可以设置可见范围。在所有能看见帖子的用户中，只有好友才能点赞或\n",
    "评论"
   ]
  },
  {
   "cell_type": "code",
   "execution_count": null,
   "metadata": {},
   "outputs": [],
   "source": []
  },
  {
   "cell_type": "markdown",
   "metadata": {},
   "source": [
    "## 二、ER图设计\n",
    "根据上述业务需求，我们需要确定实体，以及实体之间的联系。\n",
    "1. 实体\n",
    "我们共设立7种实体，并确定它们各自的属性（主码用下划线来标识）：\n",
    "用户（微信号，昵称，性别，地区，手机号）\n"
   ]
  },
  {
   "cell_type": "code",
   "execution_count": null,
   "metadata": {},
   "outputs": [],
   "source": [
    "how to write out ER graph? load picture here? use which language?"
   ]
  },
  {
   "cell_type": "markdown",
   "metadata": {},
   "source": [
    "2. 联系\n",
    "实体之间存在着若干种联系，我们一一列举如下："
   ]
  },
  {
   "cell_type": "markdown",
   "metadata": {},
   "source": [
    "3. ER图\n",
    "根据列出的实体和联系，我们可以绘制出ER图。（注：受绘图软件功能所限，弱实体的分辨符在图中用虚线椭圆框和实下\n",
    "划线表示。正常应该用虚下划线表示。）\n"
   ]
  },
  {
   "cell_type": "markdown",
   "metadata": {},
   "source": [
    "## 三、关系表创建\n",
    "完成ER图的设计后，要将其转换成关系表。\n",
    "7个实体各自对应一张表，要注意的是，2个弱实体的表中应有强实体的主码，代表对强实体的依附。\n",
    "5个多对多联系（好友、群成员、朋友圈帖子可见、评论可见、点赞可见）需单独创建表，表的主码是联系双方的主码。\n",
    "剩余的都是一对多联系，不需要创建单独的表，而应该将单方参与实体的码作为多方参与实体的属性。举例来说，“群主”\n",
    "联系是一对多的，则在群聊的表中加入“群主ID”属性，作为外码。\n",
    "共有12张表，下面我们一一进行创建。注释中包含着一些说明。"
   ]
  },
  {
   "cell_type": "code",
   "execution_count": null,
   "metadata": {},
   "outputs": [],
   "source": []
  },
  {
   "cell_type": "markdown",
   "metadata": {},
   "source": [
    "## 四、业务功能实现（SQL语句）\n",
    "我们已经完成了关系表的创建，并插入了数据，现在我们借助PyMySQL，使用SQL语句来实现增删改查操作。\n",
    "以下共列举了10种操作的方法。"
   ]
  },
  {
   "cell_type": "code",
   "execution_count": null,
   "metadata": {},
   "outputs": [],
   "source": []
  }
 ],
 "metadata": {
  "language_info": {
   "name": "python"
  },
  "orig_nbformat": 4
 },
 "nbformat": 4,
 "nbformat_minor": 2
}
